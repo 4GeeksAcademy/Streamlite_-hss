{
 "cells": [
  {
   "cell_type": "markdown",
   "id": "ba07bded",
   "metadata": {},
   "source": [
    "# Script de Streamlit "
   ]
  },
  {
   "cell_type": "code",
   "execution_count": 3,
   "id": "49ccf284",
   "metadata": {},
   "outputs": [
    {
     "name": "stderr",
     "output_type": "stream",
     "text": [
      "2024-01-20 09:55:25.451 \n",
      "  \u001b[33m\u001b[1mWarning:\u001b[0m to view this Streamlit app on a browser, run it with the following\n",
      "  command:\n",
      "\n",
      "    streamlit run /home/vscode/.local/lib/python3.11/site-packages/ipykernel_launcher.py [ARGUMENTS]\n"
     ]
    }
   ],
   "source": [
    "\n",
    "import streamlit as st\n",
    "import pandas as pd\n",
    "import pickle\n",
    "\n",
    "# Cargar el modelo desde el archivo\n",
    "model_file_path = 'model_nlp.pk'\n",
    "with open(model_file_path, 'rb') as file:\n",
    "    model = pickle.load(file) \n",
    "\n",
    "# Agregar título y descripción a la aplicación Streamlit\n",
    "st.title('Sistema de Detección de Enlaces Spam con SVM')\n",
    "st.write('Esta aplicación utiliza un modelo SVM para detectar enlaces de spam.')\n",
    "\n",
    "# Interfaz para la predicción de nuevos datos\n",
    "st.write('## Realizar una nueva predicción')\n",
    "# Aquí se deben adaptar los campos de entrada según los datos que el modelo espera recibir\n",
    "input_feature = st.text_input('Inserta el texto a evaluar')\n",
    "\n",
    "if st.button('Predecir'):\n",
    "    # La predicción debe ser adaptada según cómo el modelo procese los datos\n",
    "    prediction = model.predict([input_feature])\n",
    "    st.write(f'La predicción es: {prediction[0]}')\n"
   ]
  }
 ],
 "metadata": {
  "kernelspec": {
   "display_name": "Python 3",
   "language": "python",
   "name": "python3"
  },
  "language_info": {
   "codemirror_mode": {
    "name": "ipython",
    "version": 3
   },
   "file_extension": ".py",
   "mimetype": "text/x-python",
   "name": "python",
   "nbconvert_exporter": "python",
   "pygments_lexer": "ipython3",
   "version": "3.11.4"
  }
 },
 "nbformat": 4,
 "nbformat_minor": 5
}
