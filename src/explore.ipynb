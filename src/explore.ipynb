{
    "cells": [
        {
            "cell_type": "markdown",
            "metadata": {},
            "source": [
                "# Explore here"
            ]
        },
        {
            "cell_type": "code",
            "execution_count": 6,
            "metadata": {},
            "outputs": [],
            "source": [
                "import pandas as pd\n",
                "import regex as re\n",
                "import streamlit as st\n",
                "\n",
                "# Función para preprocesar el texto\n",
                "def preprocess_text(text):\n",
                "    text = re.sub(r'[^a-z ]', \" \", text)\n",
                "    text = re.sub(r'\\s+[a-zA-Z]\\s+', \" \", text)\n",
                "    text = re.sub(r'\\^[a-zA-Z]\\s+', \" \", text)\n",
                "    text = re.sub(r'\\s+', \" \", text.lower())\n",
                "    text = re.sub(\"&lt;/?.*?&gt;\", \" &lt;&gt; \", text)\n",
                "    return text.split()\n",
                "\n",
                "\n"
            ]
        },
        {
            "cell_type": "code",
            "execution_count": 8,
            "metadata": {},
            "outputs": [],
            "source": [
                "# Cargar y procesar los datos\n",
                "@st.cache\n",
                "def load_data():\n",
                "    total_data = pd.read_csv(\"https://raw.githubusercontent.com/4GeeksAcademy/NLP-project-tutorial/main/url_spam.csv\")\n",
                "    total_data[\"is_spam\"] = total_data[\"is_spam\"].apply(lambda x: 1 if x else 0).astype(int)\n",
                "    total_data = total_data.drop_duplicates().reset_index(drop=True)\n",
                "    total_data[\"url\"] = total_data[\"url\"].apply(preprocess_text)\n",
                "    return total_data\n"
            ]
        },
        {
            "cell_type": "code",
            "execution_count": 11,
            "metadata": {},
            "outputs": [
                {
                    "ename": "SyntaxError",
                    "evalue": "invalid syntax (1612878770.py, line 2)",
                    "output_type": "error",
                    "traceback": [
                        "\u001b[0;36m  Cell \u001b[0;32mIn[11], line 2\u001b[0;36m\u001b[0m\n\u001b[0;31m    def mi_funcion(...):\u001b[0m\n\u001b[0m                   ^\u001b[0m\n\u001b[0;31mSyntaxError\u001b[0m\u001b[0;31m:\u001b[0m invalid syntax\n"
                    ]
                }
            ],
            "source": [
                "\n",
                "\n",
                "data = load_data()"
            ]
        },
        {
            "cell_type": "code",
            "execution_count": 12,
            "metadata": {},
            "outputs": [],
            "source": [
                "\n",
                "# Interfaz de usuario de Streamlit\n",
                "st.title('URL Spam Detection')\n",
                "\n",
                "# Permitir al usuario ingresar una URL\n",
                "user_input = st.text_input(\"Introduzca la URL para revisar por SPAM\")\n",
                "\n",
                "# Mostrar algunos datos\n",
                "if st.checkbox('Show data'):\n",
                "    st.write(data.head())"
            ]
        },
        {
            "cell_type": "code",
            "execution_count": null,
            "metadata": {},
            "outputs": [],
            "source": [
                "\n",
                "# Funcionalidad de predicción (esto es un placeholder, reemplazar con el modelo real)\n",
                "if user_input:\n",
                "    # Aquí se integraría el modelo para hacer una predicción basada en 'user_input'\n",
                "    # Por ahora, solo mostraremos un mensaje genérico\n",
                "    st.write(\"Se esta procesando la URL.\")\n",
                "\n"
            ]
        }
    ],
    "metadata": {
        "kernelspec": {
            "display_name": "Python 3.8.13 64-bit ('3.8.13')",
            "language": "python",
            "name": "python3"
        },
        "language_info": {
            "codemirror_mode": {
                "name": "ipython",
                "version": 3
            },
            "file_extension": ".py",
            "mimetype": "text/x-python",
            "name": "python",
            "nbconvert_exporter": "python",
            "pygments_lexer": "ipython3",
            "version": "3.11.4"
        },
        "orig_nbformat": 4,
        "vscode": {
            "interpreter": {
                "hash": "110cc1dee26208153f2972f08a2ad52b6a56238dc66d48e87fb757ef2996db56"
            }
        }
    },
    "nbformat": 4,
    "nbformat_minor": 2
}
